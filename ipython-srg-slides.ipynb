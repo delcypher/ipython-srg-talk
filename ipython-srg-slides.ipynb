{
 "metadata": {
  "name": ""
 },
 "nbformat": 3,
 "nbformat_minor": 0,
 "worksheets": [
  {
   "cells": [
    {
     "cell_type": "markdown",
     "metadata": {
      "slideshow": {
       "slide_type": "slide"
      }
     },
     "source": [
      "![alt](http://ipython.org/_static/IPy_header.png)\n",
      "<p class=\"gap2\"</p>\n",
      "\n",
      "<center><h1>A quick introduction by Dan Liew</h1></center>\n",
      "<p class=\"gap2\"></p>"
     ]
    },
    {
     "cell_type": "markdown",
     "metadata": {
      "slideshow": {
       "slide_type": "slide"
      }
     },
     "source": [
      "Have you ever tried using Python's interactive terminal?\n",
      "========================================================\n",
      "<center>\n",
      "![alt text](files/imgs/python-regular-console.png)\n",
      "</center>"
     ]
    },
    {
     "cell_type": "markdown",
     "metadata": {
      "slideshow": {
       "slide_type": "fragment"
      }
     },
     "source": [
      "It's lame!\n",
      "=========="
     ]
    },
    {
     "cell_type": "code",
     "collapsed": false,
     "input": [
      "%run talktools"
     ],
     "language": "python",
     "metadata": {
      "slideshow": {
       "slide_type": "skip"
      }
     },
     "outputs": [
      {
       "html": [
        "<link href='http://fonts.googleapis.com/css?family=Cabin' rel='stylesheet' type='text/css'>\n",
        "<style>\n",
        "\n",
        ".rendered_html\n",
        "{\n",
        "  color: #2C5494;\n",
        "  font-family: 'Cabin', sans-serif;\n",
        "  font-size: 140%;\n",
        "  line-height: 1.1;\n",
        "  margin: 0.5em 0;\n",
        "  }\n",
        "\n",
        ".title\n",
        "{\n",
        "  color: #498AF3;\n",
        "  font-size: 250%;\n",
        "  font-weight:bold;\n",
        "  line-height: 1.2; \n",
        "  margin: 10px 50px 10px;\n",
        "  }\n",
        "\n",
        ".subtitle\n",
        "{\n",
        "  color: #386BBC;\n",
        "  font-size: 180%;\n",
        "  font-weight:bold;\n",
        "  line-height: 1.2; \n",
        "  margin: 20px 50px 20px;\n",
        "  }\n",
        "\n",
        ".slide-header, p.slide-header\n",
        "{\n",
        "  color: #498AF3;\n",
        "  font-size: 200%;\n",
        "  font-weight:bold;\n",
        "  margin: 0px 20px 10px;\n",
        "  page-break-before: always;\n",
        "  text-align: center;\n",
        "  }\n",
        "\n",
        ".rendered_html h1\n",
        "{\n",
        "  color: #498AF3;\n",
        "  line-height: 1.2; \n",
        "  margin: 0.15em 0em 0.5em;\n",
        "  page-break-before: always;\n",
        "  text-align: center;\n",
        "  }\n",
        "\n",
        "\n",
        ".rendered_html h2\n",
        "{ \n",
        "  color: #386BBC;\n",
        "  line-height: 1.2;\n",
        "  margin: 1.1em 0em 0.5em;\n",
        "  }\n",
        "\n",
        ".rendered_html h3\n",
        "{ \n",
        "  font-size: 100%;\n",
        "  line-height: 1.2;\n",
        "  margin: 1.1em 0em 0.5em;\n",
        "  }\n",
        "\n",
        ".rendered_html li\n",
        "{\n",
        "  line-height: 1.8;\n",
        "  }\n",
        "\n",
        ".input_prompt, .CodeMirror-lines, .output_area\n",
        "{\n",
        "  font-family: courier;\n",
        "  font-size: 120%;\n",
        "}\n",
        "\n",
        "code\n",
        "{\n",
        "    font-family: courier;\n",
        "}\n",
        "\n",
        ".gap-above\n",
        "{\n",
        "  padding-top: 200px;\n",
        "  }\n",
        "\n",
        ".gap01\n",
        "{\n",
        "  padding-top: 10px;\n",
        "  }\n",
        "\n",
        ".gap05\n",
        "{\n",
        "  padding-top: 50px;\n",
        "  }\n",
        "\n",
        ".gap1\n",
        "{\n",
        "  padding-top: 100px;\n",
        "  }\n",
        "\n",
        ".gap2\n",
        "{\n",
        "  padding-top: 200px;\n",
        "  }\n",
        "\n",
        ".gap3\n",
        "{\n",
        "  padding-top: 300px;\n",
        "  }\n",
        "\n",
        ".emph\n",
        "{\n",
        "  color: #386BBC;\n",
        "  }\n",
        "\n",
        ".warn\n",
        "{\n",
        "  color: red;\n",
        "  }\n",
        "\n",
        ".center\n",
        "{\n",
        "  text-align: center;\n",
        "  }\n",
        "\n",
        ".nb_link\n",
        "{\n",
        "    padding-bottom: 0.5em;\n",
        "}\n",
        "\n",
        "</style>\n"
       ],
       "metadata": {},
       "output_type": "display_data",
       "text": [
        "<IPython.core.display.HTML at 0x7f70d9c2b390>"
       ]
      }
     ],
     "prompt_number": 19
    },
    {
     "cell_type": "markdown",
     "metadata": {
      "slideshow": {
       "slide_type": "slide"
      }
     },
     "source": [
      "# Problems Include\n"
     ]
    },
    {
     "cell_type": "markdown",
     "metadata": {
      "slideshow": {
       "slide_type": "fragment"
      }
     },
     "source": [
      "<center>\n",
      "![](files/imgs/yu-no-tab.jpg)\n",
      "![](files/imgs/one-does-not.jpg)\n",
      "</center>"
     ]
    },
    {
     "cell_type": "markdown",
     "metadata": {
      "slideshow": {
       "slide_type": "slide"
      }
     },
     "source": [
      "# Introduction to IPython\n",
      "\n",
      "It started off as an \"Afternoon hack\" by Fernado P\u00e9rez\n",
      "\n",
      "The IPython termianl offers many features including...\n",
      "\n",
      "+ Tab completition\n",
      "+ Readable backtraces\n",
      "+ Nice shell integration\n",
      "+ Easy access to help"
     ]
    },
    {
     "cell_type": "markdown",
     "metadata": {
      "slideshow": {
       "slide_type": "fragment"
      }
     },
     "source": [
      "#Quick Demo"
     ]
    },
    {
     "cell_type": "markdown",
     "metadata": {
      "slideshow": {
       "slide_type": "slide"
      }
     },
     "source": [
      "# Demo\n",
      "\n",
      "<center>\n",
      "![](files/imgs/console-simple.png)\n",
      "</center>"
     ]
    },
    {
     "cell_type": "markdown",
     "metadata": {
      "slideshow": {
       "slide_type": "slide"
      }
     },
     "source": [
      "# Is that it?\n",
      "\n"
     ]
    },
    {
     "cell_type": "markdown",
     "metadata": {
      "slideshow": {
       "slide_type": "fragment"
      }
     },
     "source": [
      "<center><h2>No, otherwise my presentation would be boring</h2></center>"
     ]
    },
    {
     "cell_type": "markdown",
     "metadata": {
      "slideshow": {
       "slide_type": "slide"
      }
     },
     "source": [
      "# IPython is much much more"
     ]
    },
    {
     "cell_type": "markdown",
     "metadata": {
      "slideshow": {
       "slide_type": "fragment"
      }
     },
     "source": [
      "+ Powerful interactive shells (terminal and Qt-based)\n",
      "+ A browser-based notebook with support code, text, mathematical expressions, inline plots and other rich media\n",
      "+ Support for interactive data visualisation and use of GUI toolkits\n",
      "+ Flexible, embeddable interpreters to load into your own projects\n",
      "+ Easy to use, high perofrmance tools for parallel computing **(I'm not going to cover this)**"
     ]
    },
    {
     "cell_type": "markdown",
     "metadata": {
      "slideshow": {
       "slide_type": "fragment"
      }
     },
     "source": [
      "#Developed by many developers including the main devs:\n",
      "\n",
      "<center>\n",
      "<h2>Fernando P\u00e9rez, Min Ragan-Kelley, Brian E. Granger, Thomas Kluyver\n",
      "</h2>\n",
      "</center>"
     ]
    },
    {
     "cell_type": "markdown",
     "metadata": {
      "slideshow": {
       "slide_type": "slide"
      }
     },
     "source": [
      "# IPython architecture\n",
      "\n",
      "### The interpreter loop seperated\n",
      "\n",
      "<center>\n",
      "![](files/imgs/arch-inkscape-zmq.png)\n",
      "</center>\n",
      "\n",
      "+ **IPython client** - Sends commands and receives their output. E.g. qtconsole and web notebook\n",
      "+ **IPython kernel** - A seperate process running an IPython interperter that receives that recieves commands from clients and executes them. Multiple clients can connect!\n",
      "+ Communication between the kernel and clients is done via the ZeroMQ library. It is a \"socket library that acts as a concurrency framework\"."
     ]
    },
    {
     "cell_type": "markdown",
     "metadata": {
      "slideshow": {
       "slide_type": "slide"
      }
     },
     "source": [
      "# IPython architecture\n",
      "\n",
      "In Python objects can provide an implementation of <code>__repr__()</code> which will return the string representation of an object.\n",
      "\n",
      "IPython takes this concept further and allows objects to provide other representations which can then be used appropriately. This is used to render things like graphs and LaTeX."
     ]
    },
    {
     "cell_type": "markdown",
     "metadata": {
      "slideshow": {
       "slide_type": "fragment"
      }
     },
     "source": [
      "<code>__repr_html() , __repr__svg() , repr__latex() ...</code>"
     ]
    },
    {
     "cell_type": "markdown",
     "metadata": {
      "slideshow": {
       "slide_type": "slide"
      }
     },
     "source": [
      "# Let's try out some more features!\n",
      "\n",
      "<center>\n",
      "![](files/imgs/demo-all-the-features.jpg)\n",
      "</center>"
     ]
    },
    {
     "cell_type": "code",
     "collapsed": false,
     "input": [
      "%matplotlib inline\n",
      "import matplotlib.pyplot as p\n",
      "\n",
      "X = range(-50,50)\n",
      "\n",
      "def f(x): return x**2\n",
      "\n",
      "def g(x): return x**3\n",
      "\n",
      "p.plot(X, list(map(f,X)), label='f(x)')\n",
      "p.xlabel('x')\n",
      "\n",
      "\n",
      "p.plot(X, list(map(g,X)), label='g(x)')\n",
      "p.ylim(-2000,2000)\n",
      "p.ylabel('f(x), g(x)')\n",
      "p.grid(b=True)\n",
      "p.legend()\n",
      "\n",
      "# Guess what this does??\n",
      "#p.xkcd()"
     ],
     "language": "python",
     "metadata": {
      "slideshow": {
       "slide_type": "slide"
      }
     },
     "outputs": [
      {
       "metadata": {},
       "output_type": "pyout",
       "prompt_number": 4,
       "text": [
        "<matplotlib.legend.Legend at 0x7fc068e5a350>"
       ]
      },
      {
       "metadata": {},
       "output_type": "display_data",
       "png": "[encoded data removed]",
       "text": [
        "<matplotlib.figure.Figure at 0x7fc068e48fd0>"
       ]
      }
     ],
     "prompt_number": 4
    },
    {
     "cell_type": "markdown",
     "metadata": {
      "slideshow": {
       "slide_type": "slide"
      }
     },
     "source": [
      "# What do I think IPython is good for?\n",
      "\n",
      "+ Hacking on ideas\n",
      "+ Data visualisation\n",
      "+ Collaboration\n",
      "+ Teaching/Learning\n",
      "+ A great replacement for the native Python console!"
     ]
    },
    {
     "cell_type": "markdown",
     "metadata": {
      "slideshow": {
       "slide_type": "slide"
      }
     },
     "source": [
      "# Some fantastic example IPython notebooks\n",
      "\n",
      "+ https://github.com/ipython/ipython/wiki/A-gallery-of-interesting-IPython-Notebooks\n",
      "+ http://nbviewer.ipython.org/urls/raw.github.com/CamDavidsonPilon/Probabilistic-Programming-and-Bayesian-Methods-for-Hackers/master/Chapter1_Introduction/Chapter1_Introduction.ipynb\n",
      "+ http://nbviewer.ipython.org/4042018"
     ]
    },
    {
     "cell_type": "markdown",
     "metadata": {
      "slideshow": {
       "slide_type": "slide"
      }
     },
     "source": [
      "# Thanks for listening!"
     ]
    },
    {
     "cell_type": "markdown",
     "metadata": {
      "slideshow": {
       "slide_type": "fragment"
      }
     },
     "source": [
      "<center><h2> Now go forth and use IPython!</h2></center>\n",
      "\n",
      "<center> http://ipython.org </center>"
     ]
    },
    {
     "cell_type": "code",
     "collapsed": false,
     "input": [],
     "language": "python",
     "metadata": {},
     "outputs": []
    }
   ],
   "metadata": {}
  }
 ]
}